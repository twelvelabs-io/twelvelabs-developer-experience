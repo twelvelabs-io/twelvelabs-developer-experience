{
  "cells": [
    {
      "cell_type": "markdown",
      "id": "c6974e2f",
      "metadata": {
        "id": "c6974e2f"
      },
      "source": [
        "# LanceDB + Twelve Labs Video AI Tutorial\n",
        "\n",
        "In this notebook, we will build a semantic video search and summarization system capable of understanding video content and responding to natural language queries.\n",
        "We'll integrate three technologies:\n",
        "\n",
        "1. Twelve Labs: Marengo for multimodal video embeddings and Pegasus for video understanding\n",
        "2. LanceDB: Open-source multimodal lakehouse for managing AI data at scale\n",
        "\n",
        "By the end of this tutorial, you'll have a working system that can:\n",
        "1. Load videos from HuggingFace dataset\n",
        "2. Generate semantic embeddings with Marengo\n",
        "3. Store videos and embeddings in LanceDB\n",
        "4. Search videos using natural language queries (text embeddings)\n",
        "5. Generate intelligent summaries with Pegasus\n",
        "\n",
        "**Prerequisites**: Twelve Labs API key from [twelvelabs.io](https://twelvelabs.io)"
      ]
    },
    {
      "cell_type": "markdown",
      "id": "vup3ry7rj7",
      "metadata": {
        "id": "vup3ry7rj7"
      },
      "source": [
        "## Install Dependencies\n",
        "\n",
        "First, install the required packages."
      ]
    },
    {
      "cell_type": "code",
      "execution_count": null,
      "id": "rp0spj447f",
      "metadata": {
        "id": "rp0spj447f"
      },
      "outputs": [],
      "source": [
        "# Install all required packages\n",
        "!uv pip install -q geneva datasets==3.5.0 twelvelabs ray[default] kubernetes"
      ]
    },
    {
      "cell_type": "markdown",
      "id": "p59jy5h537",
      "metadata": {
        "id": "p59jy5h537"
      },
      "source": [
        "## Import Libraries\n",
        "\n",
        "Import all necessary libraries for video processing and database operations."
      ]
    },
    {
      "cell_type": "code",
      "execution_count": null,
      "id": "1gvjmstwz46",
      "metadata": {
        "id": "1gvjmstwz46"
      },
      "outputs": [],
      "source": [
        "# Standard library imports\n",
        "import os\n",
        "import time\n",
        "import tempfile\n",
        "import shutil\n",
        "from typing import Callable\n",
        "\n",
        "# Data processing and scientific computing\n",
        "import numpy as np\n",
        "import pandas as pd\n",
        "import pyarrow as pa\n",
        "\n",
        "# Database and ML frameworks\n",
        "import geneva\n",
        "from geneva import udf\n",
        "import lancedb\n",
        "from twelvelabs import TwelveLabs\n",
        "\n",
        "# Dataset handling\n",
        "from datasets import load_dataset\n",
        "\n",
        "# Environment-specific imports (optional)\n",
        "try:\n",
        "    from google.colab import userdata\n",
        "    IN_COLAB = True\n",
        "except ImportError:\n",
        "    IN_COLAB = False"
      ]
    },
    {
      "cell_type": "markdown",
      "id": "63w4erut8jb",
      "metadata": {
        "id": "63w4erut8jb"
      },
      "source": [
        "## Configuration\n",
        "\n",
        "Set up the database path and processing parameters."
      ]
    },
    {
      "cell_type": "code",
      "execution_count": null,
      "id": "4k2kd1dnatd",
      "metadata": {
        "id": "4k2kd1dnatd"
      },
      "outputs": [],
      "source": [
        "# Configuration\n",
        "GENEVA_DB_PATH = \"/content/quickstart/\"\n",
        "NUM_VIDEOS = 10"
      ]
    },
    {
      "cell_type": "markdown",
      "id": "0blqbuiubdac",
      "metadata": {
        "id": "0blqbuiubdac"
      },
      "source": [
        "## API Authentication\n",
        "\n",
        "Configure Twelve Labs API credentials."
      ]
    },
    {
      "cell_type": "code",
      "execution_count": null,
      "id": "9wykb6ul9bb",
      "metadata": {
        "id": "9wykb6ul9bb"
      },
      "outputs": [],
      "source": [
        "# API Key Setup\n",
        "if IN_COLAB:\n",
        "    # Google Colab environment\n",
        "    os.environ['TWELVE_LABS_API_KEY'] = userdata.get('TWELVE_LABS_API_KEY')\n",
        "else:\n",
        "    # Local environment - ensure TWELVE_LABS_API_KEY is set in your environment\n",
        "    # export TWELVE_LABS_API_KEY='your-api-key'\n",
        "    if 'TWELVE_LABS_API_KEY' not in os.environ:\n",
        "        raise ValueError(\"Please set TWELVE_LABS_API_KEY environment variable\")"
      ]
    },
    {
      "cell_type": "markdown",
      "id": "06csc8jnoccd",
      "metadata": {
        "id": "06csc8jnoccd"
      },
      "source": [
        "## Load Video Dataset\n",
        "\n",
        "Load video data from the HuggingFace FineVideo dataset."
      ]
    },
    {
      "cell_type": "code",
      "execution_count": null,
      "id": "9d1fc5b8",
      "metadata": {
        "id": "9d1fc5b8"
      },
      "outputs": [],
      "source": [
        "# Load videos from HuggingFace FineVideo dataset\n",
        "shutil.rmtree(GENEVA_DB_PATH, ignore_errors=True)\n",
        "\n",
        "def load_videos():\n",
        "    dataset = load_dataset(\"HuggingFaceFV/finevideo\", split=\"train\", streaming=True)\n",
        "    batch = []\n",
        "    processed = 0\n",
        "\n",
        "    for row in dataset:\n",
        "        if processed >= NUM_VIDEOS:\n",
        "            break\n",
        "\n",
        "        video_bytes = row['mp4']\n",
        "        json_metadata = row['json']\n",
        "\n",
        "        # Create rich caption from metadata\n",
        "        caption_parts = []\n",
        "        if json_metadata.get(\"youtube_title\"):\n",
        "            caption_parts.append(json_metadata[\"youtube_title\"])\n",
        "        if json_metadata.get(\"youtube_description\"):\n",
        "            desc = json_metadata[\"youtube_description\"][:200]\n",
        "            caption_parts.append(desc + \"...\" if len(json_metadata[\"youtube_description\"]) > 200 else desc)\n",
        "\n",
        "        batch.append({\n",
        "            \"video\": video_bytes,\n",
        "            \"caption\": \" | \".join(filter(None, caption_parts)) or \"No description\",\n",
        "            \"youtube_title\": json_metadata.get(\"youtube_title\", \"\"),\n",
        "            \"video_id\": f\"video_{processed}\",\n",
        "            \"duration\": json_metadata.get(\"duration_seconds\", 0),\n",
        "            \"resolution\": json_metadata.get(\"resolution\", \"\")\n",
        "        })\n",
        "        processed += 1\n",
        "\n",
        "    return pa.RecordBatch.from_pylist(batch)\n",
        "\n",
        "db = geneva.connect(GENEVA_DB_PATH)"
      ]
    },
    {
      "cell_type": "code",
      "execution_count": null,
      "id": "52e30052-44c7-46eb-a690-1f5939bd928b",
      "metadata": {
        "colab": {
          "base_uri": "https://localhost:8080/",
          "height": 81,
          "referenced_widgets": [
            "7997f059ad9147d28e557ee34c5d39d8",
            "4f83275cc8b54c2dac61e8e5ab74ba8b",
            "2853096460484fec8646c4cc828c162d",
            "145e845949a8429188b525b9d5525131",
            "db9b1dfb27314010af86a1bee85939ed",
            "e3c77de301a243d294a95307964cf348",
            "39e666f6a0c1416fb74e39b6f4e2a752",
            "03b13ee4de3e41c3b10d3c0cd3b490a0",
            "6721345aeca14ab989efce3adcd4691e",
            "08b54013688440f0920c18565de5373e",
            "f495fa2b3b5140de993dfa1db8d1e615",
            "6fbecfb38a8b4f9db1ebe20480d8333c",
            "e626f5d1f908402f8fcac770b8c16a8b",
            "d91b7a65ef734efca11aa1f2022f488b",
            "9e431ad370794601b549afc485e92a1d",
            "7dac6276f17b487f81ac498e23020958",
            "e06c18a25c764d159e05e8c0a84ccce8",
            "976c7afb1edc4c3b98e767b8c71451a8",
            "0900946edc634ed0a68980ef91dbfa88",
            "0b1aef5ad91046739942d7776c022f21",
            "38c3c4f70e224e7d84ea6b3e2eee6a1e",
            "a2f9ef4751564ef78370453281356555"
          ]
        },
        "id": "52e30052-44c7-46eb-a690-1f5939bd928b",
        "outputId": "1b2afbb3-dc49-4406-ff0e-878706b61cb3"
      },
      "outputs": [],
      "source": [
        "# Create table with video data\n",
        "tbl = db.create_table(\"videos\", load_videos(), mode=\"overwrite\")"
      ]
    },
    {
      "cell_type": "code",
      "execution_count": null,
      "id": "xql9rcyf2ja",
      "metadata": {
        "colab": {
          "background_save": true
        },
        "id": "xql9rcyf2ja",
        "outputId": "3a2bbc46-c36c-4420-85f9-8dd4ba13f8b6"
      },
      "outputs": [],
      "source": [
        "# Display the video data table\n",
        "tbl.to_pandas().head()"
      ]
    },
    {
      "cell_type": "markdown",
      "id": "ksrkfd39oib",
      "metadata": {
        "id": "ksrkfd39oib"
      },
      "source": [
        "## Initialize Twelve Labs Client\n",
        "\n",
        "Initialize the Twelve Labs client for API access."
      ]
    },
    {
      "cell_type": "code",
      "execution_count": null,
      "id": "3nrc350g4ek",
      "metadata": {
        "colab": {
          "background_save": true
        },
        "id": "3nrc350g4ek"
      },
      "outputs": [],
      "source": [
        "# Initialize Twelve Labs client\n",
        "client = TwelveLabs(api_key=os.environ['TWELVE_LABS_API_KEY'])"
      ]
    },
    {
      "cell_type": "markdown",
      "id": "zypqs2lunrj",
      "metadata": {
        "id": "zypqs2lunrj"
      },
      "source": [
        "## Define Video Embedding UDF\n",
        "\n",
        "Create a User-Defined Function (UDF) to generate video embeddings using the Marengo model."
      ]
    },
    {
      "cell_type": "code",
      "execution_count": null,
      "id": "046o2pt62413",
      "metadata": {
        "colab": {
          "background_save": true
        },
        "id": "046o2pt62413"
      },
      "outputs": [],
      "source": [
        "# Create video embeddings UDF using Twelve Labs Marengo model\n",
        "@udf(data_type=pa.list_(pa.float32(), 1024))\n",
        "class GenVideoEmbeddings(Callable):\n",
        "    def __init__(self, twelve_labs_api_key):\n",
        "        self.client = None\n",
        "        self.is_loaded = False\n",
        "        self.twelve_labs_api_key = twelve_labs_api_key\n",
        "\n",
        "    def setup(self):\n",
        "        self.client = TwelveLabs(api_key=self.twelve_labs_api_key)\n",
        "        self.is_loaded = True\n",
        "\n",
        "    def __call__(self, video: pa.Array) -> pa.Array:\n",
        "        if not self.is_loaded:\n",
        "            self.setup()\n",
        "\n",
        "        embeddings = []\n",
        "\n",
        "        for i, v in enumerate(video):\n",
        "            video_bytes = v.as_buffer().to_pybytes()\n",
        "\n",
        "            # Save video to temporary file\n",
        "            with tempfile.NamedTemporaryFile(suffix='.mp4', delete=False) as tmp:\n",
        "                tmp.write(video_bytes)\n",
        "                video_path = tmp.name\n",
        "\n",
        "            try:\n",
        "                # Create embedding task - API requires 'clip' to be included\n",
        "                with open(video_path, 'rb') as video_file:\n",
        "                    task = self.client.embed.tasks.create(\n",
        "                        model_name=\"Marengo-retrieval-2.7\",\n",
        "                        video_file=video_file,\n",
        "                        video_embedding_scope=[\"clip\", \"video\"]\n",
        "                    )\n",
        "\n",
        "                # Wait for completion and retrieve embedding\n",
        "                status = self.client.embed.tasks.wait_for_done(task.id)\n",
        "                result = self.client.embed.tasks.retrieve(task.id)\n",
        "\n",
        "                video_segments = [seg for seg in result.video_embedding.segments\n",
        "                                if seg.embedding_scope == \"video\"]\n",
        "\n",
        "                if not video_segments:\n",
        "                    print(f\"No video embedding segments found for video {i}\")\n",
        "                    embeddings.append(pa.array(np.zeros(1024, dtype=np.float32)))\n",
        "                    continue\n",
        "\n",
        "                # Extract embedding using .float_ (confirmed working)\n",
        "                embedding_data = video_segments[0].float_\n",
        "                embedding_array = np.array(embedding_data, dtype=np.float32)\n",
        "\n",
        "                if np.allclose(embedding_array, 0):\n",
        "                    print(f\"Warning: Got zero embedding for video {i}\")\n",
        "                else:\n",
        "                    print(f\"✅ Valid embedding for video {i}, sum: {sum(embedding_data):.4f}\")\n",
        "\n",
        "                embeddings.append(pa.array(embedding_array))\n",
        "\n",
        "            except Exception as e:\n",
        "                print(f\"Error processing video {i}: {str(e)}\")\n",
        "                embeddings.append(pa.array(np.zeros(1024, dtype=np.float32)))\n",
        "            finally:\n",
        "                if os.path.exists(video_path):\n",
        "                    os.unlink(video_path)\n",
        "\n",
        "        return pa.FixedSizeListArray.from_arrays(pa.concat_arrays(embeddings), 1024)\n",
        "\n",
        "# Add embedding column to table\n",
        "tbl.add_columns({\"embedding\": GenVideoEmbeddings(twelve_labs_api_key=os.environ['TWELVE_LABS_API_KEY'])})"
      ]
    },
    {
      "cell_type": "markdown",
      "id": "inow6haazv",
      "metadata": {
        "id": "inow6haazv"
      },
      "source": [
        "## Generate Embeddings\n",
        "\n",
        "Apply the embedding function to process all videos in the table."
      ]
    },
    {
      "cell_type": "code",
      "execution_count": null,
      "id": "f22b21da",
      "metadata": {
        "colab": {
          "background_save": true
        },
        "id": "f22b21da"
      },
      "outputs": [],
      "source": [
        "# Generate embeddings for all videos\n",
        "tbl.backfill(\"embedding\", concurrency=1)"
      ]
    },
    {
      "cell_type": "code",
      "execution_count": null,
      "id": "1HTsIXN7Gxhk",
      "metadata": {
        "colab": {
          "background_save": true
        },
        "id": "1HTsIXN7Gxhk",
        "outputId": "9f4d5d6e-816e-4ec8-fdf2-9b276d664ede"
      },
      "outputs": [],
      "source": [
        "# Display the updated table with embeddings\n",
        "tbl.to_pandas()"
      ]
    },
    {
      "cell_type": "markdown",
      "id": "4qj17ax4kx",
      "metadata": {
        "id": "4qj17ax4kx"
      },
      "source": [
        "## Add Summary Column\n",
        "\n",
        "Add a summary column to store video descriptions."
      ]
    },
    {
      "cell_type": "code",
      "execution_count": null,
      "id": "imwe9wnvt9",
      "metadata": {
        "colab": {
          "background_save": true
        },
        "id": "imwe9wnvt9",
        "outputId": "c5a0cead-6e40-42ac-e3fb-36b93bd914e3"
      },
      "outputs": [],
      "source": [
        "# Add empty summary column using a simple UDF\n",
        "@udf(data_type=pa.string())\n",
        "class InitSummary(Callable):\n",
        "    def __call__(self, video_id: pa.Array) -> pa.Array:\n",
        "        # Return empty strings for now\n",
        "        return pa.array([\"\"] * len(video_id))\n",
        "\n",
        "# Add the summary column\n",
        "tbl.add_columns({\"video_summary\": InitSummary()})\n",
        "\n",
        "# Verify the column was added\n",
        "print(\"Table columns:\", tbl.to_pandas().columns.tolist())"
      ]
    },
    {
      "cell_type": "markdown",
      "id": "xv1yl1hrf9h",
      "metadata": {
        "id": "xv1yl1hrf9h"
      },
      "source": [
        "## Create Pegasus Index\n",
        "\n",
        "Create a Twelve Labs index configured with the Pegasus model for video summarization."
      ]
    },
    {
      "cell_type": "code",
      "execution_count": null,
      "id": "porhr6jjaxk",
      "metadata": {
        "colab": {
          "background_save": true
        },
        "id": "porhr6jjaxk"
      },
      "outputs": [],
      "source": [
        "# Create Twelve Labs index for summarization\n",
        "index = client.indexes.create(\n",
        "    index_name=f\"lancedb_demo_{int(time.time())}\",\n",
        "    models=[{\n",
        "        \"model_name\": \"pegasus1.2\",\n",
        "        \"model_options\": [\"visual\", \"audio\"]\n",
        "    }]\n",
        ")"
      ]
    },
    {
      "cell_type": "markdown",
      "id": "uwcjbjy1sq",
      "metadata": {
        "id": "uwcjbjy1sq"
      },
      "source": [
        "## Convert Query to Embedding\n",
        "\n",
        "Convert the search query to an embedding vector."
      ]
    },
    {
      "cell_type": "code",
      "execution_count": null,
      "id": "lqy2vt7kcp",
      "metadata": {
        "colab": {
          "background_save": true
        },
        "id": "lqy2vt7kcp"
      },
      "outputs": [],
      "source": [
        "# Generate query embedding using Marengo\n",
        "query = \"educational tutorial\"\n",
        "query_result = client.embed.create(\n",
        "    model_name=\"Marengo-retrieval-2.7\",\n",
        "    text=query\n",
        ")\n",
        "query_embedding = np.array(query_result.text_embedding.segments[0].float_)"
      ]
    },
    {
      "cell_type": "markdown",
      "id": "rm08k2e9kyc",
      "metadata": {
        "id": "rm08k2e9kyc"
      },
      "source": [
        "## Search Videos by Similarity\n",
        "\n",
        "Execute vector similarity search to find relevant videos."
      ]
    },
    {
      "cell_type": "code",
      "execution_count": null,
      "id": "3lu8p5qxtao",
      "metadata": {
        "colab": {
          "background_save": true
        },
        "id": "3lu8p5qxtao",
        "outputId": "1633451b-8b2c-49eb-bee1-894361dd0a6d"
      },
      "outputs": [],
      "source": [
        "# Execute vector search using LanceDB\n",
        "lance_db = lancedb.connect(GENEVA_DB_PATH)\n",
        "lance_tbl = lance_db.open_table(\"videos\")\n",
        "\n",
        "search_results = (lance_tbl\n",
        "                 .search(query_embedding)\n",
        "                 .metric(\"cosine\")\n",
        "                 .limit(3)\n",
        "                 .to_pandas())\n",
        "\n",
        "search_results[['youtube_title', 'duration', '_distance', 'caption']].head()"
      ]
    },
    {
      "cell_type": "markdown",
      "id": "j4k20x90uth",
      "metadata": {
        "id": "j4k20x90uth"
      },
      "source": [
        "## Create Video Summarizer\n",
        "\n",
        "Initialize the video summarization pipeline."
      ]
    },
    {
      "cell_type": "code",
      "execution_count": null,
      "id": "ll653yvtzj",
      "metadata": {
        "colab": {
          "background_save": true
        },
        "id": "ll653yvtzj"
      },
      "outputs": [],
      "source": [
        "# Initialize video summarizer\n",
        "class VideoSummarizer:\n",
        "    def __init__(self, twelve_labs_api_key, index_id):\n",
        "        self.client = TwelveLabs(api_key=twelve_labs_api_key)\n",
        "        self.index_id = index_id\n",
        "        self.uploaded_videos = {}\n",
        "\n",
        "    def summarize(self, video_bytes, video_id):\n",
        "        try:\n",
        "            # Upload video if needed\n",
        "            if video_id not in self.uploaded_videos:\n",
        "                with tempfile.NamedTemporaryFile(suffix='.mp4', delete=False) as tmp:\n",
        "                    tmp.write(video_bytes)\n",
        "                    tmp_path = tmp.name\n",
        "\n",
        "                try:\n",
        "                    with open(tmp_path, 'rb') as video_file:\n",
        "                        task = self.client.tasks.create(\n",
        "                            index_id=self.index_id,\n",
        "                            video_file=video_file\n",
        "                        )\n",
        "\n",
        "                    status = self.client.tasks.wait_for_done(task.id)\n",
        "                    self.uploaded_videos[video_id] = status.video_id\n",
        "\n",
        "                finally:\n",
        "                    if os.path.exists(tmp_path):\n",
        "                        os.unlink(tmp_path)\n",
        "\n",
        "            # Generate summary\n",
        "            twelve_labs_video_id = self.uploaded_videos[video_id]\n",
        "            summary_result = self.client.summarize(\n",
        "                video_id=twelve_labs_video_id,\n",
        "                type=\"summary\",\n",
        "                prompt=\"Provide a concise summary of the main content and key moments in this video.\"\n",
        "            )\n",
        "\n",
        "            return summary_result.summary\n",
        "\n",
        "        except Exception as e:\n",
        "            return f\"Error: {str(e)}\"\n",
        "\n",
        "summarizer = VideoSummarizer(\n",
        "    twelve_labs_api_key=os.environ['TWELVE_LABS_API_KEY'],\n",
        "    index_id=index.id\n",
        ")"
      ]
    },
    {
      "cell_type": "markdown",
      "id": "dsksuftbjjg",
      "metadata": {
        "id": "dsksuftbjjg"
      },
      "source": [
        "## Generate Video Summaries\n",
        "\n",
        "Process search results to generate video summaries using Pegasus."
      ]
    },
    {
      "cell_type": "code",
      "execution_count": null,
      "id": "9b3yf3zx75",
      "metadata": {
        "colab": {
          "background_save": true
        },
        "id": "9b3yf3zx75",
        "outputId": "ae6de86a-c54c-4c35-f304-16518c8ee6e4"
      },
      "outputs": [],
      "source": [
        "%%time\n",
        "# Generate summaries for search results\n",
        "total_videos = len(search_results)\n",
        "\n",
        "for idx, (_, result) in enumerate(search_results.iterrows(), 1):\n",
        "    video_id = result['video_id']\n",
        "    print(f\"Processing video {idx}/{total_videos}: {result['youtube_title'][:50]}...\")\n",
        "\n",
        "    summary = summarizer.summarize(result['video'], video_id)\n",
        "    print(f\"✅ Generated summary for {video_id}\")\n",
        "\n",
        "    # Update LanceDB with the summary\n",
        "    try:\n",
        "        lance_tbl.update(\n",
        "            where=f\"video_id = '{video_id}'\",\n",
        "            values={\"video_summary\": summary}\n",
        "        )\n",
        "        print(f\"✅ Saved summary to LanceDB for {video_id}\")\n",
        "    except Exception as e:\n",
        "        print(f\"❌ Failed to save summary for {video_id}: {str(e)}\")\n",
        "\n",
        "print(f\"\\n🎉 Completed processing {total_videos} videos!\")"
      ]
    },
    {
      "cell_type": "markdown",
      "id": "elbd821zgov",
      "metadata": {
        "id": "elbd821zgov"
      },
      "source": [
        "## Final Results\n",
        "\n",
        "Display search results with similarity scores and AI-generated summaries."
      ]
    },
    {
      "cell_type": "code",
      "execution_count": null,
      "id": "g0l9b2jvqnq",
      "metadata": {
        "colab": {
          "background_save": true
        },
        "id": "g0l9b2jvqnq",
        "outputId": "68ef4806-12b7-47ec-cec3-4e31a56012d2"
      },
      "outputs": [],
      "source": [
        "# Verify summaries were saved - query the table again\n",
        "updated_results = (lance_tbl\n",
        "                  .search(query_embedding)\n",
        "                  .metric(\"cosine\")\n",
        "                  .limit(3)\n",
        "                  .to_pandas())\n",
        "\n",
        "# Display results with summaries\n",
        "updated_results[['video_id', 'youtube_title', '_distance', 'video_summary']].head()"
      ]
    },
    {
      "cell_type": "code",
      "execution_count": null,
      "id": "oyaba8hrwyk",
      "metadata": {
        "colab": {
          "background_save": true
        },
        "id": "oyaba8hrwyk",
        "outputId": "1afb3ff5-352f-45b3-acbb-de3715467383"
      },
      "outputs": [],
      "source": [
        "# Format results for better display\n",
        "results_display = []\n",
        "for _, result in updated_results.iterrows():\n",
        "    similarity = 1 - result['_distance']\n",
        "    summary = result['video_summary']\n",
        "\n",
        "    results_display.append({\n",
        "        'video_id': result['video_id'],\n",
        "        'title': result['youtube_title'],\n",
        "        'similarity': f\"{similarity:.3f}\",\n",
        "        'duration': f\"{result['duration']}s\",\n",
        "        'summary': summary[:150] + '...' if len(str(summary)) > 150 else str(summary)\n",
        "    })\n",
        "\n",
        "pd.DataFrame(results_display)"
      ]
    },
    {
      "cell_type": "markdown",
      "id": "tfhg74ymfd",
      "metadata": {
        "id": "tfhg74ymfd"
      },
      "source": [
        "## Complete Video AI Pipeline\n",
        "\n",
        "You've successfully built a semantic video search system with the following capabilities:\n",
        "- Video embedding generation using Twelve Labs Marengo\n",
        "- Efficient video storage and retrieval with LanceDB\n",
        "- Natural language search through vector similarity\n",
        "- AI-powered video summarization with Twelve Labs Pegasus\n",
        "\n",
        "This architecture scales to large video datasets and enables sophisticated video content discovery applications."
      ]
    }
  ],
  "metadata": {
    "accelerator": "GPU",
    "colab": {
      "gpuType": "T4",
      "provenance": []
    },
    "kernelspec": {
      "display_name": "twelvelabs",
      "language": "python",
      "name": "python3"
    },
    "language_info": {
      "codemirror_mode": {
        "name": "ipython",
        "version": 3
      },
      "file_extension": ".py",
      "mimetype": "text/x-python",
      "name": "python",
      "nbconvert_exporter": "python",
      "pygments_lexer": "ipython3",
      "version": "3.11.13"
    },
    "widgets": {
      "application/vnd.jupyter.widget-state+json": {
        "03b13ee4de3e41c3b10d3c0cd3b490a0": {
          "model_module": "@jupyter-widgets/base",
          "model_module_version": "1.2.0",
          "model_name": "LayoutModel",
          "state": {
            "_model_module": "@jupyter-widgets/base",
            "_model_module_version": "1.2.0",
            "_model_name": "LayoutModel",
            "_view_count": null,
            "_view_module": "@jupyter-widgets/base",
            "_view_module_version": "1.2.0",
            "_view_name": "LayoutView",
            "align_content": null,
            "align_items": null,
            "align_self": null,
            "border": null,
            "bottom": null,
            "display": null,
            "flex": null,
            "flex_flow": null,
            "grid_area": null,
            "grid_auto_columns": null,
            "grid_auto_flow": null,
            "grid_auto_rows": null,
            "grid_column": null,
            "grid_gap": null,
            "grid_row": null,
            "grid_template_areas": null,
            "grid_template_columns": null,
            "grid_template_rows": null,
            "height": null,
            "justify_content": null,
            "justify_items": null,
            "left": null,
            "margin": null,
            "max_height": null,
            "max_width": null,
            "min_height": null,
            "min_width": null,
            "object_fit": null,
            "object_position": null,
            "order": null,
            "overflow": null,
            "overflow_x": null,
            "overflow_y": null,
            "padding": null,
            "right": null,
            "top": null,
            "visibility": null,
            "width": null
          }
        },
        "08b54013688440f0920c18565de5373e": {
          "model_module": "@jupyter-widgets/base",
          "model_module_version": "1.2.0",
          "model_name": "LayoutModel",
          "state": {
            "_model_module": "@jupyter-widgets/base",
            "_model_module_version": "1.2.0",
            "_model_name": "LayoutModel",
            "_view_count": null,
            "_view_module": "@jupyter-widgets/base",
            "_view_module_version": "1.2.0",
            "_view_name": "LayoutView",
            "align_content": null,
            "align_items": null,
            "align_self": null,
            "border": null,
            "bottom": null,
            "display": null,
            "flex": null,
            "flex_flow": null,
            "grid_area": null,
            "grid_auto_columns": null,
            "grid_auto_flow": null,
            "grid_auto_rows": null,
            "grid_column": null,
            "grid_gap": null,
            "grid_row": null,
            "grid_template_areas": null,
            "grid_template_columns": null,
            "grid_template_rows": null,
            "height": null,
            "justify_content": null,
            "justify_items": null,
            "left": null,
            "margin": null,
            "max_height": null,
            "max_width": null,
            "min_height": null,
            "min_width": null,
            "object_fit": null,
            "object_position": null,
            "order": null,
            "overflow": null,
            "overflow_x": null,
            "overflow_y": null,
            "padding": null,
            "right": null,
            "top": null,
            "visibility": null,
            "width": null
          }
        },
        "0900946edc634ed0a68980ef91dbfa88": {
          "model_module": "@jupyter-widgets/base",
          "model_module_version": "1.2.0",
          "model_name": "LayoutModel",
          "state": {
            "_model_module": "@jupyter-widgets/base",
            "_model_module_version": "1.2.0",
            "_model_name": "LayoutModel",
            "_view_count": null,
            "_view_module": "@jupyter-widgets/base",
            "_view_module_version": "1.2.0",
            "_view_name": "LayoutView",
            "align_content": null,
            "align_items": null,
            "align_self": null,
            "border": null,
            "bottom": null,
            "display": null,
            "flex": null,
            "flex_flow": null,
            "grid_area": null,
            "grid_auto_columns": null,
            "grid_auto_flow": null,
            "grid_auto_rows": null,
            "grid_column": null,
            "grid_gap": null,
            "grid_row": null,
            "grid_template_areas": null,
            "grid_template_columns": null,
            "grid_template_rows": null,
            "height": null,
            "justify_content": null,
            "justify_items": null,
            "left": null,
            "margin": null,
            "max_height": null,
            "max_width": null,
            "min_height": null,
            "min_width": null,
            "object_fit": null,
            "object_position": null,
            "order": null,
            "overflow": null,
            "overflow_x": null,
            "overflow_y": null,
            "padding": null,
            "right": null,
            "top": null,
            "visibility": null,
            "width": null
          }
        },
        "0b1aef5ad91046739942d7776c022f21": {
          "model_module": "@jupyter-widgets/controls",
          "model_module_version": "1.5.0",
          "model_name": "ProgressStyleModel",
          "state": {
            "_model_module": "@jupyter-widgets/controls",
            "_model_module_version": "1.5.0",
            "_model_name": "ProgressStyleModel",
            "_view_count": null,
            "_view_module": "@jupyter-widgets/base",
            "_view_module_version": "1.2.0",
            "_view_name": "StyleView",
            "bar_color": null,
            "description_width": ""
          }
        },
        "145e845949a8429188b525b9d5525131": {
          "model_module": "@jupyter-widgets/controls",
          "model_module_version": "1.5.0",
          "model_name": "HTMLModel",
          "state": {
            "_dom_classes": [],
            "_model_module": "@jupyter-widgets/controls",
            "_model_module_version": "1.5.0",
            "_model_name": "HTMLModel",
            "_view_count": null,
            "_view_module": "@jupyter-widgets/controls",
            "_view_module_version": "1.5.0",
            "_view_name": "HTMLView",
            "description": "",
            "description_tooltip": null,
            "layout": "IPY_MODEL_08b54013688440f0920c18565de5373e",
            "placeholder": "​",
            "style": "IPY_MODEL_f495fa2b3b5140de993dfa1db8d1e615",
            "value": " 1357/1357 [00:00&lt;00:00,  2.40it/s]"
          }
        },
        "2853096460484fec8646c4cc828c162d": {
          "model_module": "@jupyter-widgets/controls",
          "model_module_version": "1.5.0",
          "model_name": "FloatProgressModel",
          "state": {
            "_dom_classes": [],
            "_model_module": "@jupyter-widgets/controls",
            "_model_module_version": "1.5.0",
            "_model_name": "FloatProgressModel",
            "_view_count": null,
            "_view_module": "@jupyter-widgets/controls",
            "_view_module_version": "1.5.0",
            "_view_name": "ProgressView",
            "bar_style": "success",
            "description": "",
            "description_tooltip": null,
            "layout": "IPY_MODEL_03b13ee4de3e41c3b10d3c0cd3b490a0",
            "max": 1357,
            "min": 0,
            "orientation": "horizontal",
            "style": "IPY_MODEL_6721345aeca14ab989efce3adcd4691e",
            "value": 1357
          }
        },
        "38c3c4f70e224e7d84ea6b3e2eee6a1e": {
          "model_module": "@jupyter-widgets/base",
          "model_module_version": "1.2.0",
          "model_name": "LayoutModel",
          "state": {
            "_model_module": "@jupyter-widgets/base",
            "_model_module_version": "1.2.0",
            "_model_name": "LayoutModel",
            "_view_count": null,
            "_view_module": "@jupyter-widgets/base",
            "_view_module_version": "1.2.0",
            "_view_name": "LayoutView",
            "align_content": null,
            "align_items": null,
            "align_self": null,
            "border": null,
            "bottom": null,
            "display": null,
            "flex": null,
            "flex_flow": null,
            "grid_area": null,
            "grid_auto_columns": null,
            "grid_auto_flow": null,
            "grid_auto_rows": null,
            "grid_column": null,
            "grid_gap": null,
            "grid_row": null,
            "grid_template_areas": null,
            "grid_template_columns": null,
            "grid_template_rows": null,
            "height": null,
            "justify_content": null,
            "justify_items": null,
            "left": null,
            "margin": null,
            "max_height": null,
            "max_width": null,
            "min_height": null,
            "min_width": null,
            "object_fit": null,
            "object_position": null,
            "order": null,
            "overflow": null,
            "overflow_x": null,
            "overflow_y": null,
            "padding": null,
            "right": null,
            "top": null,
            "visibility": null,
            "width": null
          }
        },
        "39e666f6a0c1416fb74e39b6f4e2a752": {
          "model_module": "@jupyter-widgets/controls",
          "model_module_version": "1.5.0",
          "model_name": "DescriptionStyleModel",
          "state": {
            "_model_module": "@jupyter-widgets/controls",
            "_model_module_version": "1.5.0",
            "_model_name": "DescriptionStyleModel",
            "_view_count": null,
            "_view_module": "@jupyter-widgets/base",
            "_view_module_version": "1.2.0",
            "_view_name": "StyleView",
            "description_width": ""
          }
        },
        "4f83275cc8b54c2dac61e8e5ab74ba8b": {
          "model_module": "@jupyter-widgets/controls",
          "model_module_version": "1.5.0",
          "model_name": "HTMLModel",
          "state": {
            "_dom_classes": [],
            "_model_module": "@jupyter-widgets/controls",
            "_model_module_version": "1.5.0",
            "_model_name": "HTMLModel",
            "_view_count": null,
            "_view_module": "@jupyter-widgets/controls",
            "_view_module_version": "1.5.0",
            "_view_name": "HTMLView",
            "description": "",
            "description_tooltip": null,
            "layout": "IPY_MODEL_e3c77de301a243d294a95307964cf348",
            "placeholder": "​",
            "style": "IPY_MODEL_39e666f6a0c1416fb74e39b6f4e2a752",
            "value": "Resolving data files: 100%"
          }
        },
        "6721345aeca14ab989efce3adcd4691e": {
          "model_module": "@jupyter-widgets/controls",
          "model_module_version": "1.5.0",
          "model_name": "ProgressStyleModel",
          "state": {
            "_model_module": "@jupyter-widgets/controls",
            "_model_module_version": "1.5.0",
            "_model_name": "ProgressStyleModel",
            "_view_count": null,
            "_view_module": "@jupyter-widgets/base",
            "_view_module_version": "1.2.0",
            "_view_name": "StyleView",
            "bar_color": null,
            "description_width": ""
          }
        },
        "6fbecfb38a8b4f9db1ebe20480d8333c": {
          "model_module": "@jupyter-widgets/controls",
          "model_module_version": "1.5.0",
          "model_name": "HBoxModel",
          "state": {
            "_dom_classes": [],
            "_model_module": "@jupyter-widgets/controls",
            "_model_module_version": "1.5.0",
            "_model_name": "HBoxModel",
            "_view_count": null,
            "_view_module": "@jupyter-widgets/controls",
            "_view_module_version": "1.5.0",
            "_view_name": "HBoxView",
            "box_style": "",
            "children": [
              "IPY_MODEL_e626f5d1f908402f8fcac770b8c16a8b",
              "IPY_MODEL_d91b7a65ef734efca11aa1f2022f488b",
              "IPY_MODEL_9e431ad370794601b549afc485e92a1d"
            ],
            "layout": "IPY_MODEL_7dac6276f17b487f81ac498e23020958"
          }
        },
        "7997f059ad9147d28e557ee34c5d39d8": {
          "model_module": "@jupyter-widgets/controls",
          "model_module_version": "1.5.0",
          "model_name": "HBoxModel",
          "state": {
            "_dom_classes": [],
            "_model_module": "@jupyter-widgets/controls",
            "_model_module_version": "1.5.0",
            "_model_name": "HBoxModel",
            "_view_count": null,
            "_view_module": "@jupyter-widgets/controls",
            "_view_module_version": "1.5.0",
            "_view_name": "HBoxView",
            "box_style": "",
            "children": [
              "IPY_MODEL_4f83275cc8b54c2dac61e8e5ab74ba8b",
              "IPY_MODEL_2853096460484fec8646c4cc828c162d",
              "IPY_MODEL_145e845949a8429188b525b9d5525131"
            ],
            "layout": "IPY_MODEL_db9b1dfb27314010af86a1bee85939ed"
          }
        },
        "7dac6276f17b487f81ac498e23020958": {
          "model_module": "@jupyter-widgets/base",
          "model_module_version": "1.2.0",
          "model_name": "LayoutModel",
          "state": {
            "_model_module": "@jupyter-widgets/base",
            "_model_module_version": "1.2.0",
            "_model_name": "LayoutModel",
            "_view_count": null,
            "_view_module": "@jupyter-widgets/base",
            "_view_module_version": "1.2.0",
            "_view_name": "LayoutView",
            "align_content": null,
            "align_items": null,
            "align_self": null,
            "border": null,
            "bottom": null,
            "display": null,
            "flex": null,
            "flex_flow": null,
            "grid_area": null,
            "grid_auto_columns": null,
            "grid_auto_flow": null,
            "grid_auto_rows": null,
            "grid_column": null,
            "grid_gap": null,
            "grid_row": null,
            "grid_template_areas": null,
            "grid_template_columns": null,
            "grid_template_rows": null,
            "height": null,
            "justify_content": null,
            "justify_items": null,
            "left": null,
            "margin": null,
            "max_height": null,
            "max_width": null,
            "min_height": null,
            "min_width": null,
            "object_fit": null,
            "object_position": null,
            "order": null,
            "overflow": null,
            "overflow_x": null,
            "overflow_y": null,
            "padding": null,
            "right": null,
            "top": null,
            "visibility": null,
            "width": null
          }
        },
        "976c7afb1edc4c3b98e767b8c71451a8": {
          "model_module": "@jupyter-widgets/controls",
          "model_module_version": "1.5.0",
          "model_name": "DescriptionStyleModel",
          "state": {
            "_model_module": "@jupyter-widgets/controls",
            "_model_module_version": "1.5.0",
            "_model_name": "DescriptionStyleModel",
            "_view_count": null,
            "_view_module": "@jupyter-widgets/base",
            "_view_module_version": "1.2.0",
            "_view_name": "StyleView",
            "description_width": ""
          }
        },
        "9e431ad370794601b549afc485e92a1d": {
          "model_module": "@jupyter-widgets/controls",
          "model_module_version": "1.5.0",
          "model_name": "HTMLModel",
          "state": {
            "_dom_classes": [],
            "_model_module": "@jupyter-widgets/controls",
            "_model_module_version": "1.5.0",
            "_model_name": "HTMLModel",
            "_view_count": null,
            "_view_module": "@jupyter-widgets/controls",
            "_view_module_version": "1.5.0",
            "_view_name": "HTMLView",
            "description": "",
            "description_tooltip": null,
            "layout": "IPY_MODEL_38c3c4f70e224e7d84ea6b3e2eee6a1e",
            "placeholder": "​",
            "style": "IPY_MODEL_a2f9ef4751564ef78370453281356555",
            "value": " 1357/1357 [00:00&lt;00:00,  6.31it/s]"
          }
        },
        "a2f9ef4751564ef78370453281356555": {
          "model_module": "@jupyter-widgets/controls",
          "model_module_version": "1.5.0",
          "model_name": "DescriptionStyleModel",
          "state": {
            "_model_module": "@jupyter-widgets/controls",
            "_model_module_version": "1.5.0",
            "_model_name": "DescriptionStyleModel",
            "_view_count": null,
            "_view_module": "@jupyter-widgets/base",
            "_view_module_version": "1.2.0",
            "_view_name": "StyleView",
            "description_width": ""
          }
        },
        "d91b7a65ef734efca11aa1f2022f488b": {
          "model_module": "@jupyter-widgets/controls",
          "model_module_version": "1.5.0",
          "model_name": "FloatProgressModel",
          "state": {
            "_dom_classes": [],
            "_model_module": "@jupyter-widgets/controls",
            "_model_module_version": "1.5.0",
            "_model_name": "FloatProgressModel",
            "_view_count": null,
            "_view_module": "@jupyter-widgets/controls",
            "_view_module_version": "1.5.0",
            "_view_name": "ProgressView",
            "bar_style": "success",
            "description": "",
            "description_tooltip": null,
            "layout": "IPY_MODEL_0900946edc634ed0a68980ef91dbfa88",
            "max": 1357,
            "min": 0,
            "orientation": "horizontal",
            "style": "IPY_MODEL_0b1aef5ad91046739942d7776c022f21",
            "value": 1357
          }
        },
        "db9b1dfb27314010af86a1bee85939ed": {
          "model_module": "@jupyter-widgets/base",
          "model_module_version": "1.2.0",
          "model_name": "LayoutModel",
          "state": {
            "_model_module": "@jupyter-widgets/base",
            "_model_module_version": "1.2.0",
            "_model_name": "LayoutModel",
            "_view_count": null,
            "_view_module": "@jupyter-widgets/base",
            "_view_module_version": "1.2.0",
            "_view_name": "LayoutView",
            "align_content": null,
            "align_items": null,
            "align_self": null,
            "border": null,
            "bottom": null,
            "display": null,
            "flex": null,
            "flex_flow": null,
            "grid_area": null,
            "grid_auto_columns": null,
            "grid_auto_flow": null,
            "grid_auto_rows": null,
            "grid_column": null,
            "grid_gap": null,
            "grid_row": null,
            "grid_template_areas": null,
            "grid_template_columns": null,
            "grid_template_rows": null,
            "height": null,
            "justify_content": null,
            "justify_items": null,
            "left": null,
            "margin": null,
            "max_height": null,
            "max_width": null,
            "min_height": null,
            "min_width": null,
            "object_fit": null,
            "object_position": null,
            "order": null,
            "overflow": null,
            "overflow_x": null,
            "overflow_y": null,
            "padding": null,
            "right": null,
            "top": null,
            "visibility": null,
            "width": null
          }
        },
        "e06c18a25c764d159e05e8c0a84ccce8": {
          "model_module": "@jupyter-widgets/base",
          "model_module_version": "1.2.0",
          "model_name": "LayoutModel",
          "state": {
            "_model_module": "@jupyter-widgets/base",
            "_model_module_version": "1.2.0",
            "_model_name": "LayoutModel",
            "_view_count": null,
            "_view_module": "@jupyter-widgets/base",
            "_view_module_version": "1.2.0",
            "_view_name": "LayoutView",
            "align_content": null,
            "align_items": null,
            "align_self": null,
            "border": null,
            "bottom": null,
            "display": null,
            "flex": null,
            "flex_flow": null,
            "grid_area": null,
            "grid_auto_columns": null,
            "grid_auto_flow": null,
            "grid_auto_rows": null,
            "grid_column": null,
            "grid_gap": null,
            "grid_row": null,
            "grid_template_areas": null,
            "grid_template_columns": null,
            "grid_template_rows": null,
            "height": null,
            "justify_content": null,
            "justify_items": null,
            "left": null,
            "margin": null,
            "max_height": null,
            "max_width": null,
            "min_height": null,
            "min_width": null,
            "object_fit": null,
            "object_position": null,
            "order": null,
            "overflow": null,
            "overflow_x": null,
            "overflow_y": null,
            "padding": null,
            "right": null,
            "top": null,
            "visibility": null,
            "width": null
          }
        },
        "e3c77de301a243d294a95307964cf348": {
          "model_module": "@jupyter-widgets/base",
          "model_module_version": "1.2.0",
          "model_name": "LayoutModel",
          "state": {
            "_model_module": "@jupyter-widgets/base",
            "_model_module_version": "1.2.0",
            "_model_name": "LayoutModel",
            "_view_count": null,
            "_view_module": "@jupyter-widgets/base",
            "_view_module_version": "1.2.0",
            "_view_name": "LayoutView",
            "align_content": null,
            "align_items": null,
            "align_self": null,
            "border": null,
            "bottom": null,
            "display": null,
            "flex": null,
            "flex_flow": null,
            "grid_area": null,
            "grid_auto_columns": null,
            "grid_auto_flow": null,
            "grid_auto_rows": null,
            "grid_column": null,
            "grid_gap": null,
            "grid_row": null,
            "grid_template_areas": null,
            "grid_template_columns": null,
            "grid_template_rows": null,
            "height": null,
            "justify_content": null,
            "justify_items": null,
            "left": null,
            "margin": null,
            "max_height": null,
            "max_width": null,
            "min_height": null,
            "min_width": null,
            "object_fit": null,
            "object_position": null,
            "order": null,
            "overflow": null,
            "overflow_x": null,
            "overflow_y": null,
            "padding": null,
            "right": null,
            "top": null,
            "visibility": null,
            "width": null
          }
        },
        "e626f5d1f908402f8fcac770b8c16a8b": {
          "model_module": "@jupyter-widgets/controls",
          "model_module_version": "1.5.0",
          "model_name": "HTMLModel",
          "state": {
            "_dom_classes": [],
            "_model_module": "@jupyter-widgets/controls",
            "_model_module_version": "1.5.0",
            "_model_name": "HTMLModel",
            "_view_count": null,
            "_view_module": "@jupyter-widgets/controls",
            "_view_module_version": "1.5.0",
            "_view_name": "HTMLView",
            "description": "",
            "description_tooltip": null,
            "layout": "IPY_MODEL_e06c18a25c764d159e05e8c0a84ccce8",
            "placeholder": "​",
            "style": "IPY_MODEL_976c7afb1edc4c3b98e767b8c71451a8",
            "value": "Resolving data files: 100%"
          }
        },
        "f495fa2b3b5140de993dfa1db8d1e615": {
          "model_module": "@jupyter-widgets/controls",
          "model_module_version": "1.5.0",
          "model_name": "DescriptionStyleModel",
          "state": {
            "_model_module": "@jupyter-widgets/controls",
            "_model_module_version": "1.5.0",
            "_model_name": "DescriptionStyleModel",
            "_view_count": null,
            "_view_module": "@jupyter-widgets/base",
            "_view_module_version": "1.2.0",
            "_view_name": "StyleView",
            "description_width": ""
          }
        }
      }
    }
  },
  "nbformat": 4,
  "nbformat_minor": 5
}
